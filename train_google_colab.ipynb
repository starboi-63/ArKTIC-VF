{
 "cells": [
  {
   "cell_type": "markdown",
   "metadata": {},
   "source": [
    "# Training Remotely on Google Colab\n",
    "\n",
    "First, clone the project repository and navigate to the root directory:"
   ]
  },
  {
   "cell_type": "code",
   "execution_count": null,
   "metadata": {},
   "outputs": [],
   "source": [
    "!git clone https://github.com/starboi-63/ArTEMIS.git\n",
    "\n",
    "%cd ArTEMIS"
   ]
  },
  {
   "cell_type": "markdown",
   "metadata": {},
   "source": [
    "Install Python dependencies from `requirements.txt`:"
   ]
  },
  {
   "cell_type": "code",
   "execution_count": null,
   "metadata": {},
   "outputs": [],
   "source": [
    "!pip install -r requirements.txt"
   ]
  },
  {
   "cell_type": "markdown",
   "metadata": {},
   "source": [
    "Check the CUDA driver installed on the current compute instance:"
   ]
  },
  {
   "cell_type": "code",
   "execution_count": null,
   "metadata": {},
   "outputs": [],
   "source": [
    "!nvcc --version"
   ]
  },
  {
   "cell_type": "markdown",
   "metadata": {},
   "source": [
    "Verify that CUDA is working as expected:"
   ]
  },
  {
   "cell_type": "code",
   "execution_count": null,
   "metadata": {},
   "outputs": [],
   "source": [
    "import torch\n",
    "\n",
    "print(torch.__version__)\n",
    "print(torch.cuda.is_available())\n",
    "print(torch.version.cuda)"
   ]
  },
  {
   "cell_type": "markdown",
   "metadata": {},
   "source": [
    "## Mounting to Drive\n",
    "\n",
    "Mount to Google Drive to save logs and checkpoints in real-time:"
   ]
  },
  {
   "cell_type": "code",
   "execution_count": null,
   "metadata": {},
   "outputs": [],
   "source": [
    "from google.colab import drive\n",
    "\n",
    "drive.mount('/content/drive')"
   ]
  },
  {
   "cell_type": "code",
   "execution_count": null,
   "metadata": {},
   "outputs": [],
   "source": [
    "import os\n",
    "\n",
    "logging_directory = '/content/drive/My Drive/ArTEMIS/training_logs'\n",
    "\n",
    "if not os.path.exists(logging_directory):\n",
    "    os.makedirs(logging_directory)\n",
    "    print(f\"Created directory at {logging_directory}.\")\n",
    "else:\n",
    "    print(f\"{logging_directory} directory already exists.\")"
   ]
  },
  {
   "cell_type": "markdown",
   "metadata": {},
   "source": [
    "## Tensor Board:\n",
    "\n",
    "Run the following cells to launch tensorboard to visualize training progress."
   ]
  },
  {
   "cell_type": "code",
   "execution_count": null,
   "metadata": {},
   "outputs": [],
   "source": [
    "%load_ext tensorboard"
   ]
  },
  {
   "cell_type": "code",
   "execution_count": null,
   "metadata": {},
   "outputs": [],
   "source": [
    "%tensorboard --logdir \"{logdir}\""
   ]
  },
  {
   "cell_type": "markdown",
   "metadata": {},
   "source": [
    "## Train!\n",
    "\n",
    "### Command-Line Arguments\n",
    "\n",
    "- `-n`, `--name`: Optional. Postfix for the log directory. It is appended to the log directory name if specified.\n",
    "- `-r`, `--resume`: Optional. Path to resume from a log directory or a checkpoint within a log directory. Specify the directory or the checkpoint file to resume training.\n",
    "- `-b`, `--base`: Optional. Paths to base configuration files in YAML format. Configurations are loaded from left to right, and parameters can be overwritten or added via command-line options using `--key value`.\n",
    "- `-t`, `--train`: Optional. Boolean flag to enable training mode. Set to `True` to activate training.\n",
    "- `--no-test`: Optional. Boolean flag to disable testing. If set to `True`, the testing phase is skipped.\n",
    "- `-l`, `--logdir`: Optional. Directory for storing logs and outputs. Defaults to `logs` if not specified."
   ]
  },
  {
   "cell_type": "code",
   "execution_count": null,
   "metadata": {},
   "outputs": [],
   "source": [
    "!python main.py --base configs/vae.yaml --train --logdir \"{logdir}\""
   ]
  }
 ],
 "metadata": {
  "language_info": {
   "name": "python"
  }
 },
 "nbformat": 4,
 "nbformat_minor": 2
}
